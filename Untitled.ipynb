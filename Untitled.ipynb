{
 "cells": [
  {
   "cell_type": "code",
   "execution_count": 5,
   "id": "02555a43-6cbd-49cf-9dcf-e02a4aac8429",
   "metadata": {},
   "outputs": [
    {
     "name": "stdout",
     "output_type": "stream",
     "text": [
      "D=257, average distance=5.11964\n",
      "D=734, average distance=8.65209\n",
      "D=551, average distance=7.49633\n",
      "D=323, average distance=5.7395\n",
      "D=609, average distance=7.88101\n"
     ]
    },
    {
     "data": {
      "image/png": "[encoded data removed]",
      "text/plain": [
       "<Figure size 432x288 with 1 Axes>"
      ]
     },
     "metadata": {
      "needs_background": "light"
     },
     "output_type": "display_data"
    }
   ],
   "source": [
    "from math import *\n",
    "import random\n",
    "from numpy import *\n",
    "import matplotlib.pyplot as plt\n",
    "\n",
    "import matplotlib.pyplot as plt\n",
    "import sys  \n",
    "sys.path.insert(1, '/datasets')\n",
    "sys.path.insert(4, '/knn')\n",
    "import datasets\n",
    "import knn\n",
    "\n",
    "waitForEnter=False\n",
    "\n",
    "def generateUniformExample(numDim):\n",
    "    return [random.random() for d in range(numDim)]\n",
    "\n",
    "def generateUniformDataset(numDim, numEx):\n",
    "    return [generateUniformExample(numDim) for n in range(numEx)]\n",
    "\n",
    "def computeExampleDistance(x1, x2):\n",
    "    dist = 0.0\n",
    "    for d in range(len(x1)):\n",
    "        dist += (x1[d] - x2[d]) * (x1[d] - x2[d])\n",
    "    return sqrt(dist)\n",
    "\n",
    "def computeDistances(data):\n",
    "    N = len(data)\n",
    "    D = len(data[0])\n",
    "    dist = []\n",
    "    for n in range(N):\n",
    "        for m in range(n):\n",
    "            dist.append( computeExampleDistance(data[n],data[m])  / sqrt(D))\n",
    "    return dist\n",
    "\n",
    "def computeDistancesSubdims(data, d):\n",
    "    N = len(d)\n",
    "    D = len(data[0])\n",
    "    dist = []\n",
    "    for n in range(N):\n",
    "        for m in range(n):\n",
    "            dist.append( computeExampleDistance(data[n],data[m])  / sqrt(D))\n",
    "    return dist\n",
    "    \n",
    "\n",
    "N    = 200                   # number of examples\n",
    "Dims = arange(1,785)\n",
    "random.shuffle(Dims)\n",
    "Dims = Dims[:5]\n",
    "Cols = ['#FF0000', '#880000', '#000000', '#000088', '#0000FF']\n",
    "Bins = arange(0, 1, 0.02)\n",
    "\n",
    "plt.xlabel('distance / sqrt(dimensionality)')\n",
    "plt.ylabel('# of pairs of points at that distance')\n",
    "plt.title('dimensionality versus digit data point distances subdimension')\n",
    "\n",
    "for i,d in enumerate(Dims):\n",
    "    distances = computeDistancesSubdims(datasets.DigitData.X, Dims)\n",
    "    print(\"D=%d, average distance=%g\" % (d, mean(distances) * sqrt(d)))\n",
    "    plt.hist(distances,\n",
    "             Bins,\n",
    "             histtype='step',\n",
    "             color=Cols[i])\n",
    "    if waitForEnter:\n",
    "        plt.legend(['%d dims' % d for d in Dims])\n",
    "        plt.show(False)\n",
    "        x = raw_input('Press enter to continue...')\n",
    "\n",
    "\n",
    "plt.legend(['%d dims' % d for d in Dims])\n",
    "plt.savefig('fig.pdf')\n",
    "plt.show()\n",
    "\n"
   ]
  },
  {
   "cell_type": "code",
   "execution_count": null,
   "id": "49865f76-4bfd-4f2a-9ad1-f229235d7a0c",
   "metadata": {},
   "outputs": [],
   "source": []
  }
 ],
 "metadata": {
  "kernelspec": {
   "display_name": "Python 3 (ipykernel)",
   "language": "python",
   "name": "python3"
  },
  "language_info": {
   "codemirror_mode": {
    "name": "ipython",
    "version": 3
   },
   "file_extension": ".py",
   "mimetype": "text/x-python",
   "name": "python",
   "nbconvert_exporter": "python",
   "pygments_lexer": "ipython3",
   "version": "3.9.7"
  }
 },
 "nbformat": 4,
 "nbformat_minor": 5
}
